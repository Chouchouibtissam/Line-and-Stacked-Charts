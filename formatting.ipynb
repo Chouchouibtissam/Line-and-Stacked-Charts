{
 "cells": [
  {
   "cell_type": "code",
   "execution_count": 2,
   "metadata": {},
   "outputs": [
    {
     "data": {
      "text/html": [
       "<div>\n",
       "<style scoped>\n",
       "    .dataframe tbody tr th:only-of-type {\n",
       "        vertical-align: middle;\n",
       "    }\n",
       "\n",
       "    .dataframe tbody tr th {\n",
       "        vertical-align: top;\n",
       "    }\n",
       "\n",
       "    .dataframe thead th {\n",
       "        text-align: right;\n",
       "    }\n",
       "</style>\n",
       "<table border=\"1\" class=\"dataframe\">\n",
       "  <thead>\n",
       "    <tr style=\"text-align: right;\">\n",
       "      <th></th>\n",
       "      <th>date</th>\n",
       "      <th>cumDeaths</th>\n",
       "      <th>cumInjuries</th>\n",
       "      <th>dailyDeaths</th>\n",
       "      <th>dailyInjuries</th>\n",
       "    </tr>\n",
       "  </thead>\n",
       "  <tbody>\n",
       "    <tr>\n",
       "      <th>0</th>\n",
       "      <td>07-10-2023</td>\n",
       "      <td>232</td>\n",
       "      <td>1,697</td>\n",
       "      <td>232</td>\n",
       "      <td>1,697</td>\n",
       "    </tr>\n",
       "    <tr>\n",
       "      <th>1</th>\n",
       "      <td>8-10-2023</td>\n",
       "      <td>370</td>\n",
       "      <td>2,200</td>\n",
       "      <td>138</td>\n",
       "      <td>503</td>\n",
       "    </tr>\n",
       "    <tr>\n",
       "      <th>2</th>\n",
       "      <td>09-10-2023</td>\n",
       "      <td>560</td>\n",
       "      <td>2,900</td>\n",
       "      <td>190</td>\n",
       "      <td>700</td>\n",
       "    </tr>\n",
       "    <tr>\n",
       "      <th>3</th>\n",
       "      <td>10-10-2023</td>\n",
       "      <td>900</td>\n",
       "      <td>4,250</td>\n",
       "      <td>340</td>\n",
       "      <td>1,350</td>\n",
       "    </tr>\n",
       "    <tr>\n",
       "      <th>4</th>\n",
       "      <td>11-10-2023</td>\n",
       "      <td>1,100</td>\n",
       "      <td>5,339</td>\n",
       "      <td>200</td>\n",
       "      <td>1,089</td>\n",
       "    </tr>\n",
       "  </tbody>\n",
       "</table>\n",
       "</div>"
      ],
      "text/plain": [
       "         date cumDeaths cumInjuries  dailyDeaths dailyInjuries\n",
       "0  07-10-2023       232       1,697          232         1,697\n",
       "1   8-10-2023       370       2,200          138           503\n",
       "2  09-10-2023       560       2,900          190           700\n",
       "3  10-10-2023       900       4,250          340         1,350\n",
       "4  11-10-2023     1,100       5,339          200         1,089"
      ]
     },
     "execution_count": 2,
     "metadata": {},
     "output_type": "execute_result"
    }
   ],
   "source": [
    "import pandas as pd \n",
    "df= pd.read_csv('data.csv')\n",
    "df.head()"
   ]
  },
  {
   "cell_type": "code",
   "execution_count": 3,
   "metadata": {},
   "outputs": [],
   "source": [
    "columns = df.columns\n",
    "columns = [x for x in columns if x != 'date']\n",
    "columns\n",
    "for column in columns:\n",
    "    df[column] = df[column].replace(r'\\D*(\\d+)\\D*', r'\\1', regex=True)\n",
    "    df[column] = pd.to_numeric(df[column], errors='coerce', downcast='integer').astype('Int64')"
   ]
  },
  {
   "cell_type": "code",
   "execution_count": 4,
   "metadata": {},
   "outputs": [
    {
     "data": {
      "text/plain": [
       "date             object\n",
       "cumDeaths         Int64\n",
       "cumInjuries       Int64\n",
       "dailyDeaths       Int64\n",
       "dailyInjuries     Int64\n",
       "dtype: object"
      ]
     },
     "execution_count": 4,
     "metadata": {},
     "output_type": "execute_result"
    }
   ],
   "source": [
    "df.dtypes"
   ]
  },
  {
   "cell_type": "code",
   "execution_count": 5,
   "metadata": {},
   "outputs": [],
   "source": [
    "data= df[['date','cumDeaths']]\n",
    "data.to_csv('cumdeaths.csv')"
   ]
  },
  {
   "cell_type": "code",
   "execution_count": 27,
   "metadata": {},
   "outputs": [],
   "source": [
    "df.to_csv(\"numeric_data.csv\")"
   ]
  },
  {
   "cell_type": "code",
   "execution_count": 1,
   "metadata": {},
   "outputs": [
    {
     "ename": "NameError",
     "evalue": "name 'df' is not defined",
     "output_type": "error",
     "traceback": [
      "\u001b[1;31m---------------------------------------------------------------------------\u001b[0m",
      "\u001b[1;31mNameError\u001b[0m                                 Traceback (most recent call last)",
      "Cell \u001b[1;32mIn[1], line 1\u001b[0m\n\u001b[1;32m----> 1\u001b[0m \u001b[43mdf\u001b[49m\n",
      "\u001b[1;31mNameError\u001b[0m: name 'df' is not defined"
     ]
    }
   ],
   "source": [
    "df"
   ]
  }
 ],
 "metadata": {
  "kernelspec": {
   "display_name": "Python 3",
   "language": "python",
   "name": "python3"
  },
  "language_info": {
   "codemirror_mode": {
    "name": "ipython",
    "version": 3
   },
   "file_extension": ".py",
   "mimetype": "text/x-python",
   "name": "python",
   "nbconvert_exporter": "python",
   "pygments_lexer": "ipython3",
   "version": "3.10.10"
  }
 },
 "nbformat": 4,
 "nbformat_minor": 2
}
